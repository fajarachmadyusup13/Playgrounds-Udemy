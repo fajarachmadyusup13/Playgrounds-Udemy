{
 "cells": [
  {
   "cell_type": "code",
   "execution_count": 19,
   "metadata": {},
   "outputs": [
    {
     "name": "stdout",
     "output_type": "stream",
     "text": [
      "Place my variable here: abc\n"
     ]
    }
   ],
   "source": [
    "s = \"abc\"\n",
    "print('Place my variable here: %s' % s) "
   ]
  },
  {
   "cell_type": "code",
   "execution_count": 23,
   "metadata": {},
   "outputs": [
    {
     "name": "stdout",
     "output_type": "stream",
     "text": [
      "Place my variable here: 12\n"
     ]
    }
   ],
   "source": [
    "i = 12\n",
    "print('Place my variable here: %i' % i) "
   ]
  },
  {
   "cell_type": "code",
   "execution_count": 37,
   "metadata": {},
   "outputs": [
    {
     "name": "stdout",
     "output_type": "stream",
     "text": [
      "Place my variable here: 123.14\n"
     ]
    }
   ],
   "source": [
    "f = 123.135\n",
    "print('Place my variable here: %.2f' % f) "
   ]
  },
  {
   "cell_type": "code",
   "execution_count": 39,
   "metadata": {},
   "outputs": [
    {
     "name": "stdout",
     "output_type": "stream",
     "text": [
      "first: boo second: zoo third: moo\n"
     ]
    }
   ],
   "source": [
    "print('first: %s second: %s third: %s' % ('boo', 'zoo', 'moo'))"
   ]
  },
  {
   "cell_type": "code",
   "execution_count": 40,
   "metadata": {},
   "outputs": [
    {
     "name": "stdout",
     "output_type": "stream",
     "text": [
      "first: zzzz second: zzzz third: zzzz\n"
     ]
    }
   ],
   "source": [
    "print('first: {x} second: {x} third: {x}'.format(x='zzzz'))"
   ]
  }
 ],
 "metadata": {
  "kernelspec": {
   "display_name": "Python 3",
   "language": "python",
   "name": "python3"
  },
  "language_info": {
   "codemirror_mode": {
    "name": "ipython",
    "version": 3
   },
   "file_extension": ".py",
   "mimetype": "text/x-python",
   "name": "python",
   "nbconvert_exporter": "python",
   "pygments_lexer": "ipython3",
   "version": "3.6.3"
  }
 },
 "nbformat": 4,
 "nbformat_minor": 2
}
